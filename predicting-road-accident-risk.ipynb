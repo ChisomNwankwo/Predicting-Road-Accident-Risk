{
 "cells": [
  {
   "cell_type": "code",
   "execution_count": 1,
   "id": "1d51b55f",
   "metadata": {
    "_cell_guid": "b1076dfc-b9ad-4769-8c92-a6c4dae69d19",
    "_uuid": "8f2839f25d086af736a60e9eeb907d3b93b6e0e5",
    "execution": {
     "iopub.execute_input": "2025-10-25T02:41:44.287297Z",
     "iopub.status.busy": "2025-10-25T02:41:44.286989Z",
     "iopub.status.idle": "2025-10-25T02:41:55.741841Z",
     "shell.execute_reply": "2025-10-25T02:41:55.740270Z"
    },
    "papermill": {
     "duration": 11.462528,
     "end_time": "2025-10-25T02:41:55.743517",
     "exception": false,
     "start_time": "2025-10-25T02:41:44.280989",
     "status": "completed"
    },
    "tags": []
   },
   "outputs": [
    {
     "name": "stdout",
     "output_type": "stream",
     "text": [
      "/kaggle/input/playground-series-s5e10/sample_submission.csv\n",
      "/kaggle/input/playground-series-s5e10/train.csv\n",
      "/kaggle/input/playground-series-s5e10/test.csv\n"
     ]
    }
   ],
   "source": [
    "# This Python 3 environment comes with many helpful analytics libraries installed\n",
    "# It is defined by the kaggle/python Docker image: https://github.com/kaggle/docker-python\n",
    "# For example, here's several helpful packages to load\n",
    "\n",
    "import numpy as np # linear algebra\n",
    "import pandas as pd # data processing, CSV file I/O (e.g. pd.read_csv)\n",
    "import matplotlib.pyplot as plt\n",
    "%matplotlib inline\n",
    "import seaborn as sb\n",
    "from sklearn.preprocessing import OneHotEncoder\n",
    "from sklearn.preprocessing import StandardScaler\n",
    "#import models\n",
    "from sklearn.model_selection import train_test_split\n",
    "from xgboost import XGBRegressor\n",
    "from lightgbm import LGBMRegressor\n",
    "from sklearn.ensemble import RandomForestRegressor\n",
    "from sklearn.linear_model import LinearRegression\n",
    "from sklearn.neighbors import KNeighborsRegressor\n",
    "from sklearn.tree import DecisionTreeRegressor\n",
    "from sklearn.metrics import mean_squared_error\n",
    "\n",
    "# Input data files are available in the read-only \"../input/\" directory\n",
    "# For example, running this (by clicking run or pressing Shift+Enter) will list all files under the input directory\n",
    "\n",
    "import os\n",
    "for dirname, _, filenames in os.walk('/kaggle/input'):\n",
    "    for filename in filenames:\n",
    "        print(os.path.join(dirname, filename))\n",
    "\n",
    "# You can write up to 20GB to the current directory (/kaggle/working/) that gets preserved as output when you create a version using \"Save & Run All\" \n",
    "# You can also write temporary files to /kaggle/temp/, but they won't be saved outside of the current session"
   ]
  },
  {
   "cell_type": "code",
   "execution_count": 2,
   "id": "15ad841b",
   "metadata": {
    "execution": {
     "iopub.execute_input": "2025-10-25T02:41:55.753752Z",
     "iopub.status.busy": "2025-10-25T02:41:55.753096Z",
     "iopub.status.idle": "2025-10-25T02:41:56.914538Z",
     "shell.execute_reply": "2025-10-25T02:41:56.913523Z"
    },
    "papermill": {
     "duration": 1.168224,
     "end_time": "2025-10-25T02:41:56.916446",
     "exception": false,
     "start_time": "2025-10-25T02:41:55.748222",
     "status": "completed"
    },
    "tags": []
   },
   "outputs": [],
   "source": [
    "df = pd.read_csv('/kaggle/input/playground-series-s5e10/train.csv')\n",
    "test_df = pd.read_csv('/kaggle/input/playground-series-s5e10/test.csv')"
   ]
  },
  {
   "cell_type": "code",
   "execution_count": 3,
   "id": "8840d783",
   "metadata": {
    "execution": {
     "iopub.execute_input": "2025-10-25T02:41:56.926384Z",
     "iopub.status.busy": "2025-10-25T02:41:56.926088Z",
     "iopub.status.idle": "2025-10-25T02:41:56.957141Z",
     "shell.execute_reply": "2025-10-25T02:41:56.956086Z"
    },
    "papermill": {
     "duration": 0.037101,
     "end_time": "2025-10-25T02:41:56.958279",
     "exception": false,
     "start_time": "2025-10-25T02:41:56.921178",
     "status": "completed"
    },
    "tags": []
   },
   "outputs": [
    {
     "data": {
      "text/html": [
       "<div>\n",
       "<style scoped>\n",
       "    .dataframe tbody tr th:only-of-type {\n",
       "        vertical-align: middle;\n",
       "    }\n",
       "\n",
       "    .dataframe tbody tr th {\n",
       "        vertical-align: top;\n",
       "    }\n",
       "\n",
       "    .dataframe thead th {\n",
       "        text-align: right;\n",
       "    }\n",
       "</style>\n",
       "<table border=\"1\" class=\"dataframe\">\n",
       "  <thead>\n",
       "    <tr style=\"text-align: right;\">\n",
       "      <th></th>\n",
       "      <th>id</th>\n",
       "      <th>road_type</th>\n",
       "      <th>num_lanes</th>\n",
       "      <th>curvature</th>\n",
       "      <th>speed_limit</th>\n",
       "      <th>lighting</th>\n",
       "      <th>weather</th>\n",
       "      <th>road_signs_present</th>\n",
       "      <th>public_road</th>\n",
       "      <th>time_of_day</th>\n",
       "      <th>holiday</th>\n",
       "      <th>school_season</th>\n",
       "      <th>num_reported_accidents</th>\n",
       "      <th>accident_risk</th>\n",
       "    </tr>\n",
       "  </thead>\n",
       "  <tbody>\n",
       "    <tr>\n",
       "      <th>0</th>\n",
       "      <td>0</td>\n",
       "      <td>urban</td>\n",
       "      <td>2</td>\n",
       "      <td>0.06</td>\n",
       "      <td>35</td>\n",
       "      <td>daylight</td>\n",
       "      <td>rainy</td>\n",
       "      <td>False</td>\n",
       "      <td>True</td>\n",
       "      <td>afternoon</td>\n",
       "      <td>False</td>\n",
       "      <td>True</td>\n",
       "      <td>1</td>\n",
       "      <td>0.13</td>\n",
       "    </tr>\n",
       "    <tr>\n",
       "      <th>1</th>\n",
       "      <td>1</td>\n",
       "      <td>urban</td>\n",
       "      <td>4</td>\n",
       "      <td>0.99</td>\n",
       "      <td>35</td>\n",
       "      <td>daylight</td>\n",
       "      <td>clear</td>\n",
       "      <td>True</td>\n",
       "      <td>False</td>\n",
       "      <td>evening</td>\n",
       "      <td>True</td>\n",
       "      <td>True</td>\n",
       "      <td>0</td>\n",
       "      <td>0.35</td>\n",
       "    </tr>\n",
       "    <tr>\n",
       "      <th>2</th>\n",
       "      <td>2</td>\n",
       "      <td>rural</td>\n",
       "      <td>4</td>\n",
       "      <td>0.63</td>\n",
       "      <td>70</td>\n",
       "      <td>dim</td>\n",
       "      <td>clear</td>\n",
       "      <td>False</td>\n",
       "      <td>True</td>\n",
       "      <td>morning</td>\n",
       "      <td>True</td>\n",
       "      <td>False</td>\n",
       "      <td>2</td>\n",
       "      <td>0.30</td>\n",
       "    </tr>\n",
       "    <tr>\n",
       "      <th>3</th>\n",
       "      <td>3</td>\n",
       "      <td>highway</td>\n",
       "      <td>4</td>\n",
       "      <td>0.07</td>\n",
       "      <td>35</td>\n",
       "      <td>dim</td>\n",
       "      <td>rainy</td>\n",
       "      <td>True</td>\n",
       "      <td>True</td>\n",
       "      <td>morning</td>\n",
       "      <td>False</td>\n",
       "      <td>False</td>\n",
       "      <td>1</td>\n",
       "      <td>0.21</td>\n",
       "    </tr>\n",
       "    <tr>\n",
       "      <th>4</th>\n",
       "      <td>4</td>\n",
       "      <td>rural</td>\n",
       "      <td>1</td>\n",
       "      <td>0.58</td>\n",
       "      <td>60</td>\n",
       "      <td>daylight</td>\n",
       "      <td>foggy</td>\n",
       "      <td>False</td>\n",
       "      <td>False</td>\n",
       "      <td>evening</td>\n",
       "      <td>True</td>\n",
       "      <td>False</td>\n",
       "      <td>1</td>\n",
       "      <td>0.56</td>\n",
       "    </tr>\n",
       "  </tbody>\n",
       "</table>\n",
       "</div>"
      ],
      "text/plain": [
       "   id road_type  num_lanes  curvature  speed_limit  lighting weather  \\\n",
       "0   0     urban          2       0.06           35  daylight   rainy   \n",
       "1   1     urban          4       0.99           35  daylight   clear   \n",
       "2   2     rural          4       0.63           70       dim   clear   \n",
       "3   3   highway          4       0.07           35       dim   rainy   \n",
       "4   4     rural          1       0.58           60  daylight   foggy   \n",
       "\n",
       "   road_signs_present  public_road time_of_day  holiday  school_season  \\\n",
       "0               False         True   afternoon    False           True   \n",
       "1                True        False     evening     True           True   \n",
       "2               False         True     morning     True          False   \n",
       "3                True         True     morning    False          False   \n",
       "4               False        False     evening     True          False   \n",
       "\n",
       "   num_reported_accidents  accident_risk  \n",
       "0                       1           0.13  \n",
       "1                       0           0.35  \n",
       "2                       2           0.30  \n",
       "3                       1           0.21  \n",
       "4                       1           0.56  "
      ]
     },
     "execution_count": 3,
     "metadata": {},
     "output_type": "execute_result"
    }
   ],
   "source": [
    "df.head()"
   ]
  },
  {
   "cell_type": "markdown",
   "id": "5e2635ca",
   "metadata": {
    "papermill": {
     "duration": 0.00376,
     "end_time": "2025-10-25T02:41:56.966859",
     "exception": false,
     "start_time": "2025-10-25T02:41:56.963099",
     "status": "completed"
    },
    "tags": []
   },
   "source": [
    "# 2. EDA Questions\n",
    "\n",
    "1. Which road type recorded the highest number of reported accidents?\n",
    "2. Were road signs present in most of the accident cases?\n",
    "3. At what time of day did most accidents occur?\n",
    "4. Does weather condition affect accident risk?\n",
    "5. How does lighting condition relate to accident frequency?\n",
    "6. Are accident risks higher on holidays compared to non-holidays?\n",
    "7. Is there a relationship between speed limit and accident risk?\n",
    "8. Do roads with more lanes experience more or fewer accidents?\n",
    "9. Does the school season affect accident risk?\n",
    "10. Is there a link between road curvature and accident frequency?"
   ]
  },
  {
   "cell_type": "markdown",
   "id": "9c979e07",
   "metadata": {
    "papermill": {
     "duration": 0.00369,
     "end_time": "2025-10-25T02:41:56.974499",
     "exception": false,
     "start_time": "2025-10-25T02:41:56.970809",
     "status": "completed"
    },
    "tags": []
   },
   "source": [
    "## 1. Which road type recorded the highest number of reported accidents?"
   ]
  },
  {
   "cell_type": "code",
   "execution_count": 4,
   "id": "4a10c9a6",
   "metadata": {
    "execution": {
     "iopub.execute_input": "2025-10-25T02:41:56.983882Z",
     "iopub.status.busy": "2025-10-25T02:41:56.983521Z",
     "iopub.status.idle": "2025-10-25T02:41:57.280634Z",
     "shell.execute_reply": "2025-10-25T02:41:57.279387Z"
    },
    "papermill": {
     "duration": 0.303923,
     "end_time": "2025-10-25T02:41:57.282244",
     "exception": false,
     "start_time": "2025-10-25T02:41:56.978321",
     "status": "completed"
    },
    "tags": []
   },
   "outputs": [
    {
     "data": {
      "image/png": "[encoded data removed]",
      "text/plain": [
       "<Figure size 640x480 with 1 Axes>"
      ]
     },
     "metadata": {},
     "output_type": "display_data"
    }
   ],
   "source": [
    "road_accident = df.groupby('road_type')['num_reported_accidents'].mean().reset_index()\n",
    "\n",
    "colors = sb.color_palette('dark')\n",
    "road_accident.plot.pie(\n",
    "    y='num_reported_accidents',\n",
    "    labels=road_accident['road_type'],\n",
    "    autopct='%1.1f%%',\n",
    "    legend = False,\n",
    "    colors = colors,\n",
    "    ylabel='',  # removes default y-axis label\n",
    "    title='Number of Reported Accidents by Road Type',\n",
    "    #figsize=(9, 11)\n",
    ");"
   ]
  },
  {
   "cell_type": "markdown",
   "id": "2577416f",
   "metadata": {
    "papermill": {
     "duration": 0.004145,
     "end_time": "2025-10-25T02:41:57.291086",
     "exception": false,
     "start_time": "2025-10-25T02:41:57.286941",
     "status": "completed"
    },
    "tags": []
   },
   "source": [
    "## 2. Were road signs present in most of the accident cases?"
   ]
  },
  {
   "cell_type": "code",
   "execution_count": 5,
   "id": "6f604a55",
   "metadata": {
    "execution": {
     "iopub.execute_input": "2025-10-25T02:41:57.300986Z",
     "iopub.status.busy": "2025-10-25T02:41:57.300733Z",
     "iopub.status.idle": "2025-10-25T02:41:57.314606Z",
     "shell.execute_reply": "2025-10-25T02:41:57.313987Z"
    },
    "papermill": {
     "duration": 0.020382,
     "end_time": "2025-10-25T02:41:57.315745",
     "exception": false,
     "start_time": "2025-10-25T02:41:57.295363",
     "status": "completed"
    },
    "tags": []
   },
   "outputs": [
    {
     "data": {
      "text/html": [
       "<div>\n",
       "<style scoped>\n",
       "    .dataframe tbody tr th:only-of-type {\n",
       "        vertical-align: middle;\n",
       "    }\n",
       "\n",
       "    .dataframe tbody tr th {\n",
       "        vertical-align: top;\n",
       "    }\n",
       "\n",
       "    .dataframe thead th {\n",
       "        text-align: right;\n",
       "    }\n",
       "</style>\n",
       "<table border=\"1\" class=\"dataframe\">\n",
       "  <thead>\n",
       "    <tr style=\"text-align: right;\">\n",
       "      <th></th>\n",
       "      <th>road_signs_present</th>\n",
       "      <th>num_reported_accidents</th>\n",
       "    </tr>\n",
       "  </thead>\n",
       "  <tbody>\n",
       "    <tr>\n",
       "      <th>0</th>\n",
       "      <td>False</td>\n",
       "      <td>1.188114</td>\n",
       "    </tr>\n",
       "    <tr>\n",
       "      <th>1</th>\n",
       "      <td>True</td>\n",
       "      <td>1.187824</td>\n",
       "    </tr>\n",
       "  </tbody>\n",
       "</table>\n",
       "</div>"
      ],
      "text/plain": [
       "   road_signs_present  num_reported_accidents\n",
       "0               False                1.188114\n",
       "1                True                1.187824"
      ]
     },
     "execution_count": 5,
     "metadata": {},
     "output_type": "execute_result"
    }
   ],
   "source": [
    "df.groupby('road_signs_present')['num_reported_accidents'].mean().reset_index()"
   ]
  },
  {
   "cell_type": "markdown",
   "id": "869608e8",
   "metadata": {
    "papermill": {
     "duration": 0.004808,
     "end_time": "2025-10-25T02:41:57.325880",
     "exception": false,
     "start_time": "2025-10-25T02:41:57.321072",
     "status": "completed"
    },
    "tags": []
   },
   "source": [
    "## 3. Does weather condition affect accident risk?"
   ]
  },
  {
   "cell_type": "code",
   "execution_count": 6,
   "id": "ee713bdb",
   "metadata": {
    "execution": {
     "iopub.execute_input": "2025-10-25T02:41:57.336516Z",
     "iopub.status.busy": "2025-10-25T02:41:57.336221Z",
     "iopub.status.idle": "2025-10-25T02:41:57.464703Z",
     "shell.execute_reply": "2025-10-25T02:41:57.463723Z"
    },
    "papermill": {
     "duration": 0.135278,
     "end_time": "2025-10-25T02:41:57.465882",
     "exception": false,
     "start_time": "2025-10-25T02:41:57.330604",
     "status": "completed"
    },
    "tags": []
   },
   "outputs": [
    {
     "data": {
      "image/png": "[encoded data removed]",
      "text/plain": [
       "<Figure size 640x480 with 1 Axes>"
      ]
     },
     "metadata": {},
     "output_type": "display_data"
    }
   ],
   "source": [
    "weather_accident = df.groupby('weather')['accident_risk'].mean().reset_index()\n",
    "\n",
    "sb.barplot(weather_accident,x='weather',y='accident_risk');"
   ]
  },
  {
   "cell_type": "markdown",
   "id": "8070a1d6",
   "metadata": {
    "papermill": {
     "duration": 0.004353,
     "end_time": "2025-10-25T02:41:57.475359",
     "exception": false,
     "start_time": "2025-10-25T02:41:57.471006",
     "status": "completed"
    },
    "tags": []
   },
   "source": [
    "# Feature Engineering"
   ]
  },
  {
   "cell_type": "code",
   "execution_count": 7,
   "id": "4cad23df",
   "metadata": {
    "execution": {
     "iopub.execute_input": "2025-10-25T02:41:57.486331Z",
     "iopub.status.busy": "2025-10-25T02:41:57.486065Z",
     "iopub.status.idle": "2025-10-25T02:41:57.492842Z",
     "shell.execute_reply": "2025-10-25T02:41:57.491801Z"
    },
    "papermill": {
     "duration": 0.014819,
     "end_time": "2025-10-25T02:41:57.494813",
     "exception": false,
     "start_time": "2025-10-25T02:41:57.479994",
     "status": "completed"
    },
    "tags": []
   },
   "outputs": [],
   "source": [
    "def feature_engineer(df):\n",
    "    df_copy = df.copy()\n",
    "    \n",
    "    df_copy['road_signs_present'] = (df_copy['road_signs_present'] == True).astype(int)\n",
    "    df_copy['public_road'] = (df_copy['public_road'] == True).astype(int)\n",
    "    df_copy['holiday'] = (df_copy['holiday'] == True).astype(int)\n",
    "    df_copy['school_season'] = (df_copy['school_season'] == True).astype(int)\n",
    "\n",
    "    def label(x):\n",
    "        if x == 'morning':\n",
    "            return 1\n",
    "        if x == 'afternoon':\n",
    "            return 2\n",
    "        if x == 'evening':\n",
    "            return 3\n",
    "\n",
    "    df_copy['time_of_day'] = df_copy['time_of_day'].map(label)\n",
    "\n",
    "    # Create encoder with unknown handling\n",
    "    encoder = OneHotEncoder(handle_unknown='ignore', sparse_output=False)\n",
    "\n",
    "    # Fit and transform\n",
    "    result = encoder.fit_transform(df_copy[['road_type','lighting','weather']])\n",
    "\n",
    "    # Convert to DataFrame with readable column names\n",
    "    encoded_df = pd.DataFrame(result, columns=encoder.get_feature_names_out(\n",
    "    ['road_type','lighting','weather']), index=df_copy.index) \n",
    "\n",
    "    df_copy= pd.concat([df_copy,encoded_df], axis=1)\n",
    "\n",
    "    df_copy = df_copy.drop(['road_type','lighting','weather'],axis=1)\n",
    "\n",
    "    return df_copy"
   ]
  },
  {
   "cell_type": "code",
   "execution_count": 8,
   "id": "337665d9",
   "metadata": {
    "execution": {
     "iopub.execute_input": "2025-10-25T02:41:57.506358Z",
     "iopub.status.busy": "2025-10-25T02:41:57.506098Z",
     "iopub.status.idle": "2025-10-25T02:41:58.047011Z",
     "shell.execute_reply": "2025-10-25T02:41:58.046336Z"
    },
    "papermill": {
     "duration": 0.54809,
     "end_time": "2025-10-25T02:41:58.048415",
     "exception": false,
     "start_time": "2025-10-25T02:41:57.500325",
     "status": "completed"
    },
    "tags": []
   },
   "outputs": [],
   "source": [
    "train = feature_engineer(df)"
   ]
  },
  {
   "cell_type": "code",
   "execution_count": 9,
   "id": "bbe30b6b",
   "metadata": {
    "execution": {
     "iopub.execute_input": "2025-10-25T02:41:58.058523Z",
     "iopub.status.busy": "2025-10-25T02:41:58.058289Z",
     "iopub.status.idle": "2025-10-25T02:41:58.077928Z",
     "shell.execute_reply": "2025-10-25T02:41:58.076402Z"
    },
    "papermill": {
     "duration": 0.026387,
     "end_time": "2025-10-25T02:41:58.079781",
     "exception": false,
     "start_time": "2025-10-25T02:41:58.053394",
     "status": "completed"
    },
    "tags": []
   },
   "outputs": [],
   "source": [
    "X = train.drop('accident_risk',axis=1)\n",
    "y = train['accident_risk']"
   ]
  },
  {
   "cell_type": "code",
   "execution_count": 10,
   "id": "edd50c0f",
   "metadata": {
    "execution": {
     "iopub.execute_input": "2025-10-25T02:41:58.091194Z",
     "iopub.status.busy": "2025-10-25T02:41:58.090890Z",
     "iopub.status.idle": "2025-10-25T02:41:58.294836Z",
     "shell.execute_reply": "2025-10-25T02:41:58.293894Z"
    },
    "papermill": {
     "duration": 0.211539,
     "end_time": "2025-10-25T02:41:58.296631",
     "exception": false,
     "start_time": "2025-10-25T02:41:58.085092",
     "status": "completed"
    },
    "tags": []
   },
   "outputs": [],
   "source": [
    "# performing preprocessing part\n",
    "\n",
    "sc = StandardScaler()\n",
    "\n",
    "X_scaled = sc.fit_transform(X)"
   ]
  },
  {
   "cell_type": "code",
   "execution_count": 11,
   "id": "cb6dbc52",
   "metadata": {
    "execution": {
     "iopub.execute_input": "2025-10-25T02:41:58.308388Z",
     "iopub.status.busy": "2025-10-25T02:41:58.308133Z",
     "iopub.status.idle": "2025-10-25T02:41:58.432159Z",
     "shell.execute_reply": "2025-10-25T02:41:58.431250Z"
    },
    "papermill": {
     "duration": 0.131431,
     "end_time": "2025-10-25T02:41:58.433831",
     "exception": false,
     "start_time": "2025-10-25T02:41:58.302400",
     "status": "completed"
    },
    "tags": []
   },
   "outputs": [],
   "source": [
    "X_train, X_val, y_train, y_val = train_test_split(X_scaled, y, test_size= 0.2, random_state=42)"
   ]
  },
  {
   "cell_type": "code",
   "execution_count": 12,
   "id": "2a34eeb8",
   "metadata": {
    "execution": {
     "iopub.execute_input": "2025-10-25T02:41:58.447031Z",
     "iopub.status.busy": "2025-10-25T02:41:58.446781Z",
     "iopub.status.idle": "2025-10-25T02:42:01.154196Z",
     "shell.execute_reply": "2025-10-25T02:42:01.153362Z"
    },
    "papermill": {
     "duration": 2.714417,
     "end_time": "2025-10-25T02:42:01.155438",
     "exception": false,
     "start_time": "2025-10-25T02:41:58.441021",
     "status": "completed"
    },
    "tags": []
   },
   "outputs": [
    {
     "name": "stdout",
     "output_type": "stream",
     "text": [
      "[LightGBM] [Info] Auto-choosing row-wise multi-threading, the overhead of testing was 0.014706 seconds.\n",
      "You can set `force_row_wise=true` to remove the overhead.\n",
      "And if memory is not enough, you can set `force_col_wise=true`.\n",
      "[LightGBM] [Info] Total Bins 475\n",
      "[LightGBM] [Info] Number of data points in the train set: 414203, number of used features: 19\n",
      "[LightGBM] [Info] Start training from score 0.352605\n"
     ]
    },
    {
     "data": {
      "text/plain": [
       "0.15996009079185425"
      ]
     },
     "execution_count": 12,
     "metadata": {},
     "output_type": "execute_result"
    }
   ],
   "source": [
    "#model\n",
    "\n",
    "lg = LGBMRegressor()\n",
    "lg.fit(X_train,y_train)\n",
    "\n",
    "lg_model = lg.predict(X_val)\n",
    "\n",
    "np.sqrt(mean_squared_error(y_val,lg_model))/y.mean()"
   ]
  },
  {
   "cell_type": "code",
   "execution_count": 13,
   "id": "2e34b19c",
   "metadata": {
    "execution": {
     "iopub.execute_input": "2025-10-25T02:42:01.169206Z",
     "iopub.status.busy": "2025-10-25T02:42:01.168881Z",
     "iopub.status.idle": "2025-10-25T02:42:01.333688Z",
     "shell.execute_reply": "2025-10-25T02:42:01.332710Z"
    },
    "papermill": {
     "duration": 0.174014,
     "end_time": "2025-10-25T02:42:01.335215",
     "exception": false,
     "start_time": "2025-10-25T02:42:01.161201",
     "status": "completed"
    },
    "tags": []
   },
   "outputs": [],
   "source": [
    "test = feature_engineer(test_df)"
   ]
  },
  {
   "cell_type": "code",
   "execution_count": 14,
   "id": "b65688ce",
   "metadata": {
    "execution": {
     "iopub.execute_input": "2025-10-25T02:42:01.345901Z",
     "iopub.status.busy": "2025-10-25T02:42:01.345652Z",
     "iopub.status.idle": "2025-10-25T02:42:01.635623Z",
     "shell.execute_reply": "2025-10-25T02:42:01.634874Z"
    },
    "papermill": {
     "duration": 0.296909,
     "end_time": "2025-10-25T02:42:01.637030",
     "exception": false,
     "start_time": "2025-10-25T02:42:01.340121",
     "status": "completed"
    },
    "tags": []
   },
   "outputs": [],
   "source": [
    "predictions = lg.predict(test)"
   ]
  },
  {
   "cell_type": "code",
   "execution_count": 15,
   "id": "3cb522a8",
   "metadata": {
    "execution": {
     "iopub.execute_input": "2025-10-25T02:42:01.648127Z",
     "iopub.status.busy": "2025-10-25T02:42:01.647713Z",
     "iopub.status.idle": "2025-10-25T02:42:01.654759Z",
     "shell.execute_reply": "2025-10-25T02:42:01.653887Z"
    },
    "papermill": {
     "duration": 0.014081,
     "end_time": "2025-10-25T02:42:01.656169",
     "exception": false,
     "start_time": "2025-10-25T02:42:01.642088",
     "status": "completed"
    },
    "tags": []
   },
   "outputs": [],
   "source": [
    "submission = test[['id']]"
   ]
  },
  {
   "cell_type": "code",
   "execution_count": 16,
   "id": "48ab9076",
   "metadata": {
    "execution": {
     "iopub.execute_input": "2025-10-25T02:42:01.669891Z",
     "iopub.status.busy": "2025-10-25T02:42:01.669594Z",
     "iopub.status.idle": "2025-10-25T02:42:01.676599Z",
     "shell.execute_reply": "2025-10-25T02:42:01.675049Z"
    },
    "papermill": {
     "duration": 0.016405,
     "end_time": "2025-10-25T02:42:01.678216",
     "exception": false,
     "start_time": "2025-10-25T02:42:01.661811",
     "status": "completed"
    },
    "tags": []
   },
   "outputs": [
    {
     "name": "stderr",
     "output_type": "stream",
     "text": [
      "/tmp/ipykernel_13/363289967.py:1: SettingWithCopyWarning: \n",
      "A value is trying to be set on a copy of a slice from a DataFrame.\n",
      "Try using .loc[row_indexer,col_indexer] = value instead\n",
      "\n",
      "See the caveats in the documentation: https://pandas.pydata.org/pandas-docs/stable/user_guide/indexing.html#returning-a-view-versus-a-copy\n",
      "  submission['accident_risk'] = predictions\n"
     ]
    }
   ],
   "source": [
    "submission['accident_risk'] = predictions"
   ]
  },
  {
   "cell_type": "code",
   "execution_count": 17,
   "id": "1e18c4e6",
   "metadata": {
    "execution": {
     "iopub.execute_input": "2025-10-25T02:42:01.690056Z",
     "iopub.status.busy": "2025-10-25T02:42:01.689758Z",
     "iopub.status.idle": "2025-10-25T02:42:01.789918Z",
     "shell.execute_reply": "2025-10-25T02:42:01.788637Z"
    },
    "papermill": {
     "duration": 0.107712,
     "end_time": "2025-10-25T02:42:01.791506",
     "exception": false,
     "start_time": "2025-10-25T02:42:01.683794",
     "status": "completed"
    },
    "tags": []
   },
   "outputs": [
    {
     "name": "stderr",
     "output_type": "stream",
     "text": [
      "/tmp/ipykernel_13/3961751227.py:1: SettingWithCopyWarning: \n",
      "A value is trying to be set on a copy of a slice from a DataFrame.\n",
      "Try using .loc[row_indexer,col_indexer] = value instead\n",
      "\n",
      "See the caveats in the documentation: https://pandas.pydata.org/pandas-docs/stable/user_guide/indexing.html#returning-a-view-versus-a-copy\n",
      "  submission['accident_risk'] = submission['accident_risk'].apply(lambda x:(round(x,2)))\n"
     ]
    }
   ],
   "source": [
    "submission['accident_risk'] = submission['accident_risk'].apply(lambda x:(round(x,2)))"
   ]
  },
  {
   "cell_type": "code",
   "execution_count": 18,
   "id": "d2e763ac",
   "metadata": {
    "execution": {
     "iopub.execute_input": "2025-10-25T02:42:01.803416Z",
     "iopub.status.busy": "2025-10-25T02:42:01.803151Z",
     "iopub.status.idle": "2025-10-25T02:42:01.808663Z",
     "shell.execute_reply": "2025-10-25T02:42:01.807501Z"
    },
    "papermill": {
     "duration": 0.013283,
     "end_time": "2025-10-25T02:42:01.810571",
     "exception": false,
     "start_time": "2025-10-25T02:42:01.797288",
     "status": "completed"
    },
    "tags": []
   },
   "outputs": [],
   "source": [
    "submission = submission.reset_index(drop=True)"
   ]
  },
  {
   "cell_type": "code",
   "execution_count": 19,
   "id": "97817561",
   "metadata": {
    "execution": {
     "iopub.execute_input": "2025-10-25T02:42:01.823920Z",
     "iopub.status.busy": "2025-10-25T02:42:01.823556Z",
     "iopub.status.idle": "2025-10-25T02:42:01.972667Z",
     "shell.execute_reply": "2025-10-25T02:42:01.971966Z"
    },
    "papermill": {
     "duration": 0.156848,
     "end_time": "2025-10-25T02:42:01.973983",
     "exception": false,
     "start_time": "2025-10-25T02:42:01.817135",
     "status": "completed"
    },
    "tags": []
   },
   "outputs": [],
   "source": [
    "submission.to_csv('submission.csv', index=False)"
   ]
  },
  {
   "cell_type": "code",
   "execution_count": null,
   "id": "35773916",
   "metadata": {
    "papermill": {
     "duration": 0.005423,
     "end_time": "2025-10-25T02:42:01.985495",
     "exception": false,
     "start_time": "2025-10-25T02:42:01.980072",
     "status": "completed"
    },
    "tags": []
   },
   "outputs": [],
   "source": []
  },
  {
   "cell_type": "code",
   "execution_count": null,
   "id": "6be9daae",
   "metadata": {
    "papermill": {
     "duration": 0.004596,
     "end_time": "2025-10-25T02:42:01.995259",
     "exception": false,
     "start_time": "2025-10-25T02:42:01.990663",
     "status": "completed"
    },
    "tags": []
   },
   "outputs": [],
   "source": []
  },
  {
   "cell_type": "code",
   "execution_count": null,
   "id": "6e84dc89",
   "metadata": {
    "papermill": {
     "duration": 0.005671,
     "end_time": "2025-10-25T02:42:02.005640",
     "exception": false,
     "start_time": "2025-10-25T02:42:01.999969",
     "status": "completed"
    },
    "tags": []
   },
   "outputs": [],
   "source": []
  },
  {
   "cell_type": "code",
   "execution_count": null,
   "id": "21e30fc6",
   "metadata": {
    "papermill": {
     "duration": 0.004427,
     "end_time": "2025-10-25T02:42:02.014826",
     "exception": false,
     "start_time": "2025-10-25T02:42:02.010399",
     "status": "completed"
    },
    "tags": []
   },
   "outputs": [],
   "source": []
  },
  {
   "cell_type": "code",
   "execution_count": null,
   "id": "89dafe48",
   "metadata": {
    "papermill": {
     "duration": 0.004582,
     "end_time": "2025-10-25T02:42:02.025081",
     "exception": false,
     "start_time": "2025-10-25T02:42:02.020499",
     "status": "completed"
    },
    "tags": []
   },
   "outputs": [],
   "source": []
  },
  {
   "cell_type": "code",
   "execution_count": null,
   "id": "fafe63cb",
   "metadata": {
    "papermill": {
     "duration": 0.004334,
     "end_time": "2025-10-25T02:42:02.033915",
     "exception": false,
     "start_time": "2025-10-25T02:42:02.029581",
     "status": "completed"
    },
    "tags": []
   },
   "outputs": [],
   "source": []
  },
  {
   "cell_type": "code",
   "execution_count": null,
   "id": "9c305701",
   "metadata": {
    "papermill": {
     "duration": 0.004329,
     "end_time": "2025-10-25T02:42:02.042650",
     "exception": false,
     "start_time": "2025-10-25T02:42:02.038321",
     "status": "completed"
    },
    "tags": []
   },
   "outputs": [],
   "source": []
  },
  {
   "cell_type": "code",
   "execution_count": null,
   "id": "2227cdc0",
   "metadata": {
    "papermill": {
     "duration": 0.00427,
     "end_time": "2025-10-25T02:42:02.051417",
     "exception": false,
     "start_time": "2025-10-25T02:42:02.047147",
     "status": "completed"
    },
    "tags": []
   },
   "outputs": [],
   "source": []
  },
  {
   "cell_type": "code",
   "execution_count": null,
   "id": "23c4ba4b",
   "metadata": {
    "papermill": {
     "duration": 0.004317,
     "end_time": "2025-10-25T02:42:02.060274",
     "exception": false,
     "start_time": "2025-10-25T02:42:02.055957",
     "status": "completed"
    },
    "tags": []
   },
   "outputs": [],
   "source": []
  },
  {
   "cell_type": "code",
   "execution_count": null,
   "id": "e4e030fe",
   "metadata": {
    "papermill": {
     "duration": 0.00423,
     "end_time": "2025-10-25T02:42:02.068864",
     "exception": false,
     "start_time": "2025-10-25T02:42:02.064634",
     "status": "completed"
    },
    "tags": []
   },
   "outputs": [],
   "source": []
  },
  {
   "cell_type": "code",
   "execution_count": null,
   "id": "0823bbbd",
   "metadata": {
    "papermill": {
     "duration": 0.004386,
     "end_time": "2025-10-25T02:42:02.077685",
     "exception": false,
     "start_time": "2025-10-25T02:42:02.073299",
     "status": "completed"
    },
    "tags": []
   },
   "outputs": [],
   "source": []
  },
  {
   "cell_type": "code",
   "execution_count": null,
   "id": "b4752427",
   "metadata": {
    "papermill": {
     "duration": 0.005019,
     "end_time": "2025-10-25T02:42:02.087094",
     "exception": false,
     "start_time": "2025-10-25T02:42:02.082075",
     "status": "completed"
    },
    "tags": []
   },
   "outputs": [],
   "source": []
  }
 ],
 "metadata": {
  "kaggle": {
   "accelerator": "none",
   "dataSources": [
    {
     "databundleVersionId": 13760552,
     "sourceId": 91721,
     "sourceType": "competition"
    }
   ],
   "dockerImageVersionId": 31153,
   "isGpuEnabled": false,
   "isInternetEnabled": true,
   "language": "python",
   "sourceType": "notebook"
  },
  "kernelspec": {
   "display_name": "Python 3",
   "language": "python",
   "name": "python3"
  },
  "language_info": {
   "codemirror_mode": {
    "name": "ipython",
    "version": 3
   },
   "file_extension": ".py",
   "mimetype": "text/x-python",
   "name": "python",
   "nbconvert_exporter": "python",
   "pygments_lexer": "ipython3",
   "version": "3.11.13"
  },
  "papermill": {
   "default_parameters": {},
   "duration": 24.170451,
   "end_time": "2025-10-25T02:42:03.615812",
   "environment_variables": {},
   "exception": null,
   "input_path": "__notebook__.ipynb",
   "output_path": "__notebook__.ipynb",
   "parameters": {},
   "start_time": "2025-10-25T02:41:39.445361",
   "version": "2.6.0"
  }
 },
 "nbformat": 4,
 "nbformat_minor": 5
}
